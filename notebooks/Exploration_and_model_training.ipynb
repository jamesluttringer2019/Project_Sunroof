{
 "cells": [
  {
   "cell_type": "code",
   "execution_count": 1,
   "metadata": {},
   "outputs": [],
   "source": [
    "import pandas as pd\n",
    "import numpy as np\n",
    "import plotly.express as px\n",
    "import matplotlib.pyplot as plt\n",
    "import seaborn as sns"
   ]
  },
  {
   "cell_type": "code",
   "execution_count": 2,
   "metadata": {},
   "outputs": [],
   "source": [
    "df = pd.read_csv(r\"C:\\Users\\James\\Downloads\\google-project-sunroof\\sunroof_solar_potential_by_censustract.csv\")\n",
    "pd.set_option('display.max_columns', 500)"
   ]
  },
  {
   "cell_type": "code",
   "execution_count": 3,
   "metadata": {},
   "outputs": [
    {
     "data": {
      "text/html": [
       "<div>\n",
       "<style scoped>\n",
       "    .dataframe tbody tr th:only-of-type {\n",
       "        vertical-align: middle;\n",
       "    }\n",
       "\n",
       "    .dataframe tbody tr th {\n",
       "        vertical-align: top;\n",
       "    }\n",
       "\n",
       "    .dataframe thead th {\n",
       "        text-align: right;\n",
       "    }\n",
       "</style>\n",
       "<table border=\"1\" class=\"dataframe\">\n",
       "  <thead>\n",
       "    <tr style=\"text-align: right;\">\n",
       "      <th></th>\n",
       "      <th>carbon_offset_metric_tons</th>\n",
       "      <th>count_qualified</th>\n",
       "      <th>existing_installs_count</th>\n",
       "      <th>install_size_kw_buckets</th>\n",
       "      <th>kw_median</th>\n",
       "      <th>kw_total</th>\n",
       "      <th>lat_avg</th>\n",
       "      <th>lat_max</th>\n",
       "      <th>lat_min</th>\n",
       "      <th>lng_avg</th>\n",
       "      <th>lng_max</th>\n",
       "      <th>lng_min</th>\n",
       "      <th>number_of_panels_e</th>\n",
       "      <th>number_of_panels_f</th>\n",
       "      <th>number_of_panels_median</th>\n",
       "      <th>number_of_panels_n</th>\n",
       "      <th>number_of_panels_s</th>\n",
       "      <th>number_of_panels_total</th>\n",
       "      <th>number_of_panels_w</th>\n",
       "      <th>percent_covered</th>\n",
       "      <th>percent_qualified</th>\n",
       "      <th>region_name</th>\n",
       "      <th>state_name</th>\n",
       "      <th>yearly_sunlight_kwh_e</th>\n",
       "      <th>yearly_sunlight_kwh_f</th>\n",
       "      <th>yearly_sunlight_kwh_kw_threshold_avg</th>\n",
       "      <th>yearly_sunlight_kwh_median</th>\n",
       "      <th>yearly_sunlight_kwh_n</th>\n",
       "      <th>yearly_sunlight_kwh_s</th>\n",
       "      <th>yearly_sunlight_kwh_total</th>\n",
       "      <th>yearly_sunlight_kwh_w</th>\n",
       "    </tr>\n",
       "  </thead>\n",
       "  <tbody>\n",
       "    <tr>\n",
       "      <td>0</td>\n",
       "      <td>2159.887389</td>\n",
       "      <td>586</td>\n",
       "      <td>12</td>\n",
       "      <td>[[0171][5231][10114][1545][2016][252][352][451...</td>\n",
       "      <td>7.25</td>\n",
       "      <td>5219.00</td>\n",
       "      <td>34.267040</td>\n",
       "      <td>34.272362</td>\n",
       "      <td>34.261761</td>\n",
       "      <td>-118.432716</td>\n",
       "      <td>-118.425262</td>\n",
       "      <td>-118.440880</td>\n",
       "      <td>2964</td>\n",
       "      <td>6574</td>\n",
       "      <td>29.0</td>\n",
       "      <td>3159</td>\n",
       "      <td>4352</td>\n",
       "      <td>20876.0</td>\n",
       "      <td>3827</td>\n",
       "      <td>98.121387</td>\n",
       "      <td>86.303387</td>\n",
       "      <td>6037104401</td>\n",
       "      <td>California</td>\n",
       "      <td>1.014756e+06</td>\n",
       "      <td>2.539152e+06</td>\n",
       "      <td>1285.247909</td>\n",
       "      <td>10863.017950</td>\n",
       "      <td>1.075291e+06</td>\n",
       "      <td>1.760043e+06</td>\n",
       "      <td>7.922383e+06</td>\n",
       "      <td>1.533140e+06</td>\n",
       "    </tr>\n",
       "    <tr>\n",
       "      <td>1</td>\n",
       "      <td>11392.316227</td>\n",
       "      <td>369</td>\n",
       "      <td>4</td>\n",
       "      <td>[[060][550][1024][1518][2023][2515][3012][3515...</td>\n",
       "      <td>28.00</td>\n",
       "      <td>28391.25</td>\n",
       "      <td>43.156368</td>\n",
       "      <td>43.162289</td>\n",
       "      <td>43.150970</td>\n",
       "      <td>-77.607040</td>\n",
       "      <td>-77.595558</td>\n",
       "      <td>-77.620216</td>\n",
       "      <td>2760</td>\n",
       "      <td>102635</td>\n",
       "      <td>112.0</td>\n",
       "      <td>693</td>\n",
       "      <td>4578</td>\n",
       "      <td>113565.0</td>\n",
       "      <td>2899</td>\n",
       "      <td>98.623853</td>\n",
       "      <td>85.813953</td>\n",
       "      <td>36055009400</td>\n",
       "      <td>New York</td>\n",
       "      <td>7.338827e+05</td>\n",
       "      <td>2.815855e+07</td>\n",
       "      <td>947.750000</td>\n",
       "      <td>30689.598633</td>\n",
       "      <td>1.739810e+05</td>\n",
       "      <td>1.342966e+06</td>\n",
       "      <td>3.117606e+07</td>\n",
       "      <td>7.666855e+05</td>\n",
       "    </tr>\n",
       "    <tr>\n",
       "      <td>2</td>\n",
       "      <td>6902.286133</td>\n",
       "      <td>788</td>\n",
       "      <td>3</td>\n",
       "      <td>[[0364][5313][1057][1513][207][258][305][351][...</td>\n",
       "      <td>5.25</td>\n",
       "      <td>7352.25</td>\n",
       "      <td>42.277794</td>\n",
       "      <td>42.288818</td>\n",
       "      <td>42.266918</td>\n",
       "      <td>-89.066589</td>\n",
       "      <td>-89.056992</td>\n",
       "      <td>-89.085197</td>\n",
       "      <td>3841</td>\n",
       "      <td>9963</td>\n",
       "      <td>21.0</td>\n",
       "      <td>535</td>\n",
       "      <td>10649</td>\n",
       "      <td>29409.0</td>\n",
       "      <td>4421</td>\n",
       "      <td>99.359431</td>\n",
       "      <td>56.446991</td>\n",
       "      <td>17201000700</td>\n",
       "      <td>Illinois</td>\n",
       "      <td>1.024630e+06</td>\n",
       "      <td>2.850205e+06</td>\n",
       "      <td>980.050000</td>\n",
       "      <td>5823.500452</td>\n",
       "      <td>1.342642e+05</td>\n",
       "      <td>3.155397e+06</td>\n",
       "      <td>8.337565e+06</td>\n",
       "      <td>1.173068e+06</td>\n",
       "    </tr>\n",
       "    <tr>\n",
       "      <td>3</td>\n",
       "      <td>3238.933474</td>\n",
       "      <td>432</td>\n",
       "      <td>1</td>\n",
       "      <td>[[0320][567][1020][1512][251][302][351][401][4...</td>\n",
       "      <td>3.25</td>\n",
       "      <td>3598.25</td>\n",
       "      <td>40.422962</td>\n",
       "      <td>40.428940</td>\n",
       "      <td>40.418259</td>\n",
       "      <td>-79.993729</td>\n",
       "      <td>-79.987312</td>\n",
       "      <td>-80.003838</td>\n",
       "      <td>4920</td>\n",
       "      <td>5001</td>\n",
       "      <td>13.0</td>\n",
       "      <td>299</td>\n",
       "      <td>2529</td>\n",
       "      <td>14393.0</td>\n",
       "      <td>1644</td>\n",
       "      <td>98.687664</td>\n",
       "      <td>38.297872</td>\n",
       "      <td>42003180300</td>\n",
       "      <td>Pennsylvania</td>\n",
       "      <td>1.203715e+06</td>\n",
       "      <td>1.432569e+06</td>\n",
       "      <td>948.600000</td>\n",
       "      <td>3724.817041</td>\n",
       "      <td>7.318190e+04</td>\n",
       "      <td>7.604248e+05</td>\n",
       "      <td>3.912445e+06</td>\n",
       "      <td>4.425539e+05</td>\n",
       "    </tr>\n",
       "    <tr>\n",
       "      <td>4</td>\n",
       "      <td>6111.873688</td>\n",
       "      <td>827</td>\n",
       "      <td>32</td>\n",
       "      <td>[[0125][5219][10227][15124][2039][2520][3015][...</td>\n",
       "      <td>11.50</td>\n",
       "      <td>15098.50</td>\n",
       "      <td>33.844044</td>\n",
       "      <td>33.847179</td>\n",
       "      <td>33.839771</td>\n",
       "      <td>-117.933113</td>\n",
       "      <td>-117.922440</td>\n",
       "      <td>-117.941673</td>\n",
       "      <td>5933</td>\n",
       "      <td>31555</td>\n",
       "      <td>46.0</td>\n",
       "      <td>5146</td>\n",
       "      <td>8933</td>\n",
       "      <td>60394.0</td>\n",
       "      <td>8827</td>\n",
       "      <td>100.000000</td>\n",
       "      <td>90.382514</td>\n",
       "      <td>6059086602</td>\n",
       "      <td>California</td>\n",
       "      <td>2.070519e+06</td>\n",
       "      <td>1.183461e+07</td>\n",
       "      <td>1260.550000</td>\n",
       "      <td>16996.447681</td>\n",
       "      <td>1.691435e+06</td>\n",
       "      <td>3.551939e+06</td>\n",
       "      <td>2.241812e+07</td>\n",
       "      <td>3.269615e+06</td>\n",
       "    </tr>\n",
       "  </tbody>\n",
       "</table>\n",
       "</div>"
      ],
      "text/plain": [
       "   carbon_offset_metric_tons  count_qualified  existing_installs_count  \\\n",
       "0                2159.887389              586                       12   \n",
       "1               11392.316227              369                        4   \n",
       "2                6902.286133              788                        3   \n",
       "3                3238.933474              432                        1   \n",
       "4                6111.873688              827                       32   \n",
       "\n",
       "                             install_size_kw_buckets  kw_median  kw_total  \\\n",
       "0  [[0171][5231][10114][1545][2016][252][352][451...       7.25   5219.00   \n",
       "1  [[060][550][1024][1518][2023][2515][3012][3515...      28.00  28391.25   \n",
       "2  [[0364][5313][1057][1513][207][258][305][351][...       5.25   7352.25   \n",
       "3  [[0320][567][1020][1512][251][302][351][401][4...       3.25   3598.25   \n",
       "4  [[0125][5219][10227][15124][2039][2520][3015][...      11.50  15098.50   \n",
       "\n",
       "     lat_avg    lat_max    lat_min     lng_avg     lng_max     lng_min  \\\n",
       "0  34.267040  34.272362  34.261761 -118.432716 -118.425262 -118.440880   \n",
       "1  43.156368  43.162289  43.150970  -77.607040  -77.595558  -77.620216   \n",
       "2  42.277794  42.288818  42.266918  -89.066589  -89.056992  -89.085197   \n",
       "3  40.422962  40.428940  40.418259  -79.993729  -79.987312  -80.003838   \n",
       "4  33.844044  33.847179  33.839771 -117.933113 -117.922440 -117.941673   \n",
       "\n",
       "   number_of_panels_e  number_of_panels_f  number_of_panels_median  \\\n",
       "0                2964                6574                     29.0   \n",
       "1                2760              102635                    112.0   \n",
       "2                3841                9963                     21.0   \n",
       "3                4920                5001                     13.0   \n",
       "4                5933               31555                     46.0   \n",
       "\n",
       "   number_of_panels_n  number_of_panels_s  number_of_panels_total  \\\n",
       "0                3159                4352                 20876.0   \n",
       "1                 693                4578                113565.0   \n",
       "2                 535               10649                 29409.0   \n",
       "3                 299                2529                 14393.0   \n",
       "4                5146                8933                 60394.0   \n",
       "\n",
       "   number_of_panels_w  percent_covered  percent_qualified  region_name  \\\n",
       "0                3827        98.121387          86.303387   6037104401   \n",
       "1                2899        98.623853          85.813953  36055009400   \n",
       "2                4421        99.359431          56.446991  17201000700   \n",
       "3                1644        98.687664          38.297872  42003180300   \n",
       "4                8827       100.000000          90.382514   6059086602   \n",
       "\n",
       "     state_name  yearly_sunlight_kwh_e  yearly_sunlight_kwh_f  \\\n",
       "0    California           1.014756e+06           2.539152e+06   \n",
       "1      New York           7.338827e+05           2.815855e+07   \n",
       "2      Illinois           1.024630e+06           2.850205e+06   \n",
       "3  Pennsylvania           1.203715e+06           1.432569e+06   \n",
       "4    California           2.070519e+06           1.183461e+07   \n",
       "\n",
       "   yearly_sunlight_kwh_kw_threshold_avg  yearly_sunlight_kwh_median  \\\n",
       "0                           1285.247909                10863.017950   \n",
       "1                            947.750000                30689.598633   \n",
       "2                            980.050000                 5823.500452   \n",
       "3                            948.600000                 3724.817041   \n",
       "4                           1260.550000                16996.447681   \n",
       "\n",
       "   yearly_sunlight_kwh_n  yearly_sunlight_kwh_s  yearly_sunlight_kwh_total  \\\n",
       "0           1.075291e+06           1.760043e+06               7.922383e+06   \n",
       "1           1.739810e+05           1.342966e+06               3.117606e+07   \n",
       "2           1.342642e+05           3.155397e+06               8.337565e+06   \n",
       "3           7.318190e+04           7.604248e+05               3.912445e+06   \n",
       "4           1.691435e+06           3.551939e+06               2.241812e+07   \n",
       "\n",
       "   yearly_sunlight_kwh_w  \n",
       "0           1.533140e+06  \n",
       "1           7.666855e+05  \n",
       "2           1.173068e+06  \n",
       "3           4.425539e+05  \n",
       "4           3.269615e+06  "
      ]
     },
     "execution_count": 3,
     "metadata": {},
     "output_type": "execute_result"
    }
   ],
   "source": [
    "df.head()"
   ]
  },
  {
   "cell_type": "code",
   "execution_count": 4,
   "metadata": {},
   "outputs": [],
   "source": [
    "df.dropna(inplace=True)\n",
    "#create feature to get average carbon offset for a qualified building\n",
    "df['unit_offset'] = df['carbon_offset_metric_tons']/df['count_qualified']\n",
    "\n",
    "#create a feature that determines the average number of panels per building\n",
    "df['average_panels'] = df['number_of_panels_total']/df['count_qualified']\n",
    "df['average_panels'] = df['average_panels'].astype(int)\n",
    "\n",
    "cols_to_drop = ['carbon_offset_metric_tons', 'install_size_kw_buckets',\n",
    "               'lat_min', 'lat_max', 'lng_min', 'lng_max', 'percent_covered',\n",
    "               'percent_qualified', 'region_name', 'state_name',\n",
    "                'yearly_sunlight_kwh_kw_threshold_avg', 'count_qualified', \n",
    "               'existing_installs_count', 'yearly_sunlight_kwh_median', 'kw_median',\n",
    "               'kw_total']\n",
    "df.drop(cols_to_drop, axis=1, inplace=True)"
   ]
  },
  {
   "cell_type": "code",
   "execution_count": 5,
   "metadata": {},
   "outputs": [
    {
     "data": {
      "text/html": [
       "<div>\n",
       "<style scoped>\n",
       "    .dataframe tbody tr th:only-of-type {\n",
       "        vertical-align: middle;\n",
       "    }\n",
       "\n",
       "    .dataframe tbody tr th {\n",
       "        vertical-align: top;\n",
       "    }\n",
       "\n",
       "    .dataframe thead th {\n",
       "        text-align: right;\n",
       "    }\n",
       "</style>\n",
       "<table border=\"1\" class=\"dataframe\">\n",
       "  <thead>\n",
       "    <tr style=\"text-align: right;\">\n",
       "      <th></th>\n",
       "      <th>lat_avg</th>\n",
       "      <th>lng_avg</th>\n",
       "      <th>number_of_panels_e</th>\n",
       "      <th>number_of_panels_f</th>\n",
       "      <th>number_of_panels_median</th>\n",
       "      <th>number_of_panels_n</th>\n",
       "      <th>number_of_panels_s</th>\n",
       "      <th>number_of_panels_total</th>\n",
       "      <th>number_of_panels_w</th>\n",
       "      <th>yearly_sunlight_kwh_e</th>\n",
       "      <th>yearly_sunlight_kwh_f</th>\n",
       "      <th>yearly_sunlight_kwh_n</th>\n",
       "      <th>yearly_sunlight_kwh_s</th>\n",
       "      <th>yearly_sunlight_kwh_total</th>\n",
       "      <th>yearly_sunlight_kwh_w</th>\n",
       "      <th>unit_offset</th>\n",
       "      <th>average_panels</th>\n",
       "    </tr>\n",
       "  </thead>\n",
       "  <tbody>\n",
       "    <tr>\n",
       "      <td>0</td>\n",
       "      <td>34.267040</td>\n",
       "      <td>-118.432716</td>\n",
       "      <td>2964</td>\n",
       "      <td>6574</td>\n",
       "      <td>29.0</td>\n",
       "      <td>3159</td>\n",
       "      <td>4352</td>\n",
       "      <td>20876.0</td>\n",
       "      <td>3827</td>\n",
       "      <td>1.014756e+06</td>\n",
       "      <td>2.539152e+06</td>\n",
       "      <td>1.075291e+06</td>\n",
       "      <td>1.760043e+06</td>\n",
       "      <td>7.922383e+06</td>\n",
       "      <td>1.533140e+06</td>\n",
       "      <td>3.685815</td>\n",
       "      <td>35</td>\n",
       "    </tr>\n",
       "    <tr>\n",
       "      <td>1</td>\n",
       "      <td>43.156368</td>\n",
       "      <td>-77.607040</td>\n",
       "      <td>2760</td>\n",
       "      <td>102635</td>\n",
       "      <td>112.0</td>\n",
       "      <td>693</td>\n",
       "      <td>4578</td>\n",
       "      <td>113565.0</td>\n",
       "      <td>2899</td>\n",
       "      <td>7.338827e+05</td>\n",
       "      <td>2.815855e+07</td>\n",
       "      <td>1.739810e+05</td>\n",
       "      <td>1.342966e+06</td>\n",
       "      <td>3.117606e+07</td>\n",
       "      <td>7.666855e+05</td>\n",
       "      <td>30.873486</td>\n",
       "      <td>307</td>\n",
       "    </tr>\n",
       "    <tr>\n",
       "      <td>2</td>\n",
       "      <td>42.277794</td>\n",
       "      <td>-89.066589</td>\n",
       "      <td>3841</td>\n",
       "      <td>9963</td>\n",
       "      <td>21.0</td>\n",
       "      <td>535</td>\n",
       "      <td>10649</td>\n",
       "      <td>29409.0</td>\n",
       "      <td>4421</td>\n",
       "      <td>1.024630e+06</td>\n",
       "      <td>2.850205e+06</td>\n",
       "      <td>1.342642e+05</td>\n",
       "      <td>3.155397e+06</td>\n",
       "      <td>8.337565e+06</td>\n",
       "      <td>1.173068e+06</td>\n",
       "      <td>8.759246</td>\n",
       "      <td>37</td>\n",
       "    </tr>\n",
       "    <tr>\n",
       "      <td>3</td>\n",
       "      <td>40.422962</td>\n",
       "      <td>-79.993729</td>\n",
       "      <td>4920</td>\n",
       "      <td>5001</td>\n",
       "      <td>13.0</td>\n",
       "      <td>299</td>\n",
       "      <td>2529</td>\n",
       "      <td>14393.0</td>\n",
       "      <td>1644</td>\n",
       "      <td>1.203715e+06</td>\n",
       "      <td>1.432569e+06</td>\n",
       "      <td>7.318190e+04</td>\n",
       "      <td>7.604248e+05</td>\n",
       "      <td>3.912445e+06</td>\n",
       "      <td>4.425539e+05</td>\n",
       "      <td>7.497531</td>\n",
       "      <td>33</td>\n",
       "    </tr>\n",
       "    <tr>\n",
       "      <td>4</td>\n",
       "      <td>33.844044</td>\n",
       "      <td>-117.933113</td>\n",
       "      <td>5933</td>\n",
       "      <td>31555</td>\n",
       "      <td>46.0</td>\n",
       "      <td>5146</td>\n",
       "      <td>8933</td>\n",
       "      <td>60394.0</td>\n",
       "      <td>8827</td>\n",
       "      <td>2.070519e+06</td>\n",
       "      <td>1.183461e+07</td>\n",
       "      <td>1.691435e+06</td>\n",
       "      <td>3.551939e+06</td>\n",
       "      <td>2.241812e+07</td>\n",
       "      <td>3.269615e+06</td>\n",
       "      <td>7.390416</td>\n",
       "      <td>73</td>\n",
       "    </tr>\n",
       "  </tbody>\n",
       "</table>\n",
       "</div>"
      ],
      "text/plain": [
       "     lat_avg     lng_avg  number_of_panels_e  number_of_panels_f  \\\n",
       "0  34.267040 -118.432716                2964                6574   \n",
       "1  43.156368  -77.607040                2760              102635   \n",
       "2  42.277794  -89.066589                3841                9963   \n",
       "3  40.422962  -79.993729                4920                5001   \n",
       "4  33.844044 -117.933113                5933               31555   \n",
       "\n",
       "   number_of_panels_median  number_of_panels_n  number_of_panels_s  \\\n",
       "0                     29.0                3159                4352   \n",
       "1                    112.0                 693                4578   \n",
       "2                     21.0                 535               10649   \n",
       "3                     13.0                 299                2529   \n",
       "4                     46.0                5146                8933   \n",
       "\n",
       "   number_of_panels_total  number_of_panels_w  yearly_sunlight_kwh_e  \\\n",
       "0                 20876.0                3827           1.014756e+06   \n",
       "1                113565.0                2899           7.338827e+05   \n",
       "2                 29409.0                4421           1.024630e+06   \n",
       "3                 14393.0                1644           1.203715e+06   \n",
       "4                 60394.0                8827           2.070519e+06   \n",
       "\n",
       "   yearly_sunlight_kwh_f  yearly_sunlight_kwh_n  yearly_sunlight_kwh_s  \\\n",
       "0           2.539152e+06           1.075291e+06           1.760043e+06   \n",
       "1           2.815855e+07           1.739810e+05           1.342966e+06   \n",
       "2           2.850205e+06           1.342642e+05           3.155397e+06   \n",
       "3           1.432569e+06           7.318190e+04           7.604248e+05   \n",
       "4           1.183461e+07           1.691435e+06           3.551939e+06   \n",
       "\n",
       "   yearly_sunlight_kwh_total  yearly_sunlight_kwh_w  unit_offset  \\\n",
       "0               7.922383e+06           1.533140e+06     3.685815   \n",
       "1               3.117606e+07           7.666855e+05    30.873486   \n",
       "2               8.337565e+06           1.173068e+06     8.759246   \n",
       "3               3.912445e+06           4.425539e+05     7.497531   \n",
       "4               2.241812e+07           3.269615e+06     7.390416   \n",
       "\n",
       "   average_panels  \n",
       "0              35  \n",
       "1             307  \n",
       "2              37  \n",
       "3              33  \n",
       "4              73  "
      ]
     },
     "execution_count": 5,
     "metadata": {},
     "output_type": "execute_result"
    }
   ],
   "source": [
    "df.head()"
   ]
  },
  {
   "cell_type": "code",
   "execution_count": 6,
   "metadata": {},
   "outputs": [
    {
     "data": {
      "text/plain": [
       "<matplotlib.axes._subplots.AxesSubplot at 0x2063e1bc388>"
      ]
     },
     "execution_count": 6,
     "metadata": {},
     "output_type": "execute_result"
    },
    {
     "data": {
      "image/png": "[encoded data removed]",
      "text/plain": [
       "<Figure size 432x288 with 2 Axes>"
      ]
     },
     "metadata": {
      "needs_background": "light"
     },
     "output_type": "display_data"
    }
   ],
   "source": [
    "corr = df.corr()\n",
    "\n",
    "sns.heatmap(\n",
    "    corr,\n",
    "    vmin=-1, vmax=1, center=0\n",
    ")"
   ]
  },
  {
   "cell_type": "markdown",
   "metadata": {},
   "source": [
    "# Determining how to stack my models"
   ]
  },
  {
   "cell_type": "code",
   "execution_count": 7,
   "metadata": {},
   "outputs": [],
   "source": [
    "from sklearn.metrics import mean_absolute_error, r2_score\n",
    "from sklearn.linear_model import LinearRegression\n",
    "from sklearn.ensemble import RandomForestRegressor\n",
    "from sklearn.model_selection import train_test_split"
   ]
  },
  {
   "cell_type": "markdown",
   "metadata": {},
   "source": [
    "### First model, predicts yearly sunlight total"
   ]
  },
  {
   "cell_type": "code",
   "execution_count": 8,
   "metadata": {},
   "outputs": [],
   "source": [
    "features = ['lat_avg', 'lng_avg', 'average_panels']\n",
    "target = 'yearly_sunlight_kwh_total'\n",
    "\n",
    "dftest = df[features].copy()\n",
    "dftest[target] = df[target].copy()\n"
   ]
  },
  {
   "cell_type": "code",
   "execution_count": 9,
   "metadata": {},
   "outputs": [
    {
     "data": {
      "text/html": [
       "<div>\n",
       "<style scoped>\n",
       "    .dataframe tbody tr th:only-of-type {\n",
       "        vertical-align: middle;\n",
       "    }\n",
       "\n",
       "    .dataframe tbody tr th {\n",
       "        vertical-align: top;\n",
       "    }\n",
       "\n",
       "    .dataframe thead th {\n",
       "        text-align: right;\n",
       "    }\n",
       "</style>\n",
       "<table border=\"1\" class=\"dataframe\">\n",
       "  <thead>\n",
       "    <tr style=\"text-align: right;\">\n",
       "      <th></th>\n",
       "      <th>lat_avg</th>\n",
       "      <th>lng_avg</th>\n",
       "      <th>average_panels</th>\n",
       "      <th>yearly_sunlight_kwh_total</th>\n",
       "    </tr>\n",
       "  </thead>\n",
       "  <tbody>\n",
       "    <tr>\n",
       "      <td>0</td>\n",
       "      <td>34.267040</td>\n",
       "      <td>-118.432716</td>\n",
       "      <td>35</td>\n",
       "      <td>7.922383e+06</td>\n",
       "    </tr>\n",
       "    <tr>\n",
       "      <td>1</td>\n",
       "      <td>43.156368</td>\n",
       "      <td>-77.607040</td>\n",
       "      <td>307</td>\n",
       "      <td>3.117606e+07</td>\n",
       "    </tr>\n",
       "    <tr>\n",
       "      <td>2</td>\n",
       "      <td>42.277794</td>\n",
       "      <td>-89.066589</td>\n",
       "      <td>37</td>\n",
       "      <td>8.337565e+06</td>\n",
       "    </tr>\n",
       "    <tr>\n",
       "      <td>3</td>\n",
       "      <td>40.422962</td>\n",
       "      <td>-79.993729</td>\n",
       "      <td>33</td>\n",
       "      <td>3.912445e+06</td>\n",
       "    </tr>\n",
       "    <tr>\n",
       "      <td>4</td>\n",
       "      <td>33.844044</td>\n",
       "      <td>-117.933113</td>\n",
       "      <td>73</td>\n",
       "      <td>2.241812e+07</td>\n",
       "    </tr>\n",
       "  </tbody>\n",
       "</table>\n",
       "</div>"
      ],
      "text/plain": [
       "     lat_avg     lng_avg  average_panels  yearly_sunlight_kwh_total\n",
       "0  34.267040 -118.432716              35               7.922383e+06\n",
       "1  43.156368  -77.607040             307               3.117606e+07\n",
       "2  42.277794  -89.066589              37               8.337565e+06\n",
       "3  40.422962  -79.993729              33               3.912445e+06\n",
       "4  33.844044 -117.933113              73               2.241812e+07"
      ]
     },
     "execution_count": 9,
     "metadata": {},
     "output_type": "execute_result"
    }
   ],
   "source": [
    "dftest.head()"
   ]
  },
  {
   "cell_type": "code",
   "execution_count": 10,
   "metadata": {},
   "outputs": [],
   "source": [
    "train, test = train_test_split(dftest, random_state=13, train_size=.8, test_size=.2)\n",
    "\n",
    "X_train = train[features]\n",
    "y_train = train[target]\n",
    "\n",
    "X_test = test[features]\n",
    "y_test = test[target]"
   ]
  },
  {
   "cell_type": "code",
   "execution_count": 11,
   "metadata": {},
   "outputs": [],
   "source": [
    "lay1_model = RandomForestRegressor(n_estimators=150, min_samples_leaf=3,\n",
    "                              n_jobs=-1, random_state=13)"
   ]
  },
  {
   "cell_type": "code",
   "execution_count": 12,
   "metadata": {},
   "outputs": [
    {
     "data": {
      "text/plain": [
       "RandomForestRegressor(bootstrap=True, criterion='mse', max_depth=None,\n",
       "                      max_features='auto', max_leaf_nodes=None,\n",
       "                      min_impurity_decrease=0.0, min_impurity_split=None,\n",
       "                      min_samples_leaf=3, min_samples_split=2,\n",
       "                      min_weight_fraction_leaf=0.0, n_estimators=150, n_jobs=-1,\n",
       "                      oob_score=False, random_state=13, verbose=0,\n",
       "                      warm_start=False)"
      ]
     },
     "execution_count": 12,
     "metadata": {},
     "output_type": "execute_result"
    }
   ],
   "source": [
    "lay1_model.fit(X_train, y_train)"
   ]
  },
  {
   "cell_type": "code",
   "execution_count": 13,
   "metadata": {},
   "outputs": [
    {
     "name": "stdout",
     "output_type": "stream",
     "text": [
      "The mea for the Random Forest is: 10412471.972081\n",
      "The r^2 score for the Random Forest is: 0.3571517864486988\n"
     ]
    }
   ],
   "source": [
    "y_pred = lay1_model.predict(X_test)\n",
    "mae = mean_absolute_error(y_test, y_pred)\n",
    "r2 = r2_score(y_test, y_pred)\n",
    "print(f'The mea for the Random Forest is: {mae}')\n",
    "print(f'The r^2 score for the Random Forest is: {r2}')"
   ]
  },
  {
   "cell_type": "code",
   "execution_count": 14,
   "metadata": {},
   "outputs": [
    {
     "data": {
      "image/png": "[encoded data removed]",
      "text/plain": [
       "<Figure size 432x288 with 1 Axes>"
      ]
     },
     "metadata": {
      "needs_background": "light"
     },
     "output_type": "display_data"
    }
   ],
   "source": [
    "plt.hist(df['yearly_sunlight_kwh_total'], bins=500);"
   ]
  },
  {
   "cell_type": "code",
   "execution_count": 15,
   "metadata": {},
   "outputs": [
    {
     "data": {
      "text/plain": [
       "(47203, 4)"
      ]
     },
     "execution_count": 15,
     "metadata": {},
     "output_type": "execute_result"
    }
   ],
   "source": [
    "#remove highest 2% and lowest 1% yearly sunlight\n",
    "bottom = dftest.sort_values(by='yearly_sunlight_kwh_total')[:486].index\n",
    "top = dftest.sort_values(by='yearly_sunlight_kwh_total')[47689:].index\n",
    "\n",
    "dftest.drop(bottom,inplace=True)\n",
    "dftest.drop(top, inplace=True)\n",
    "dftest.shape"
   ]
  },
  {
   "cell_type": "code",
   "execution_count": 16,
   "metadata": {},
   "outputs": [],
   "source": [
    "train, test = train_test_split(dftest, random_state=13, train_size=.8, test_size=.2)\n",
    "\n",
    "X_train = train[features]\n",
    "y_train = train[target]\n",
    "\n",
    "X_test = test[features]\n",
    "y_test = test[target]"
   ]
  },
  {
   "cell_type": "code",
   "execution_count": 17,
   "metadata": {},
   "outputs": [
    {
     "data": {
      "text/plain": [
       "RandomForestRegressor(bootstrap=True, criterion='mse', max_depth=None,\n",
       "                      max_features='auto', max_leaf_nodes=None,\n",
       "                      min_impurity_decrease=0.0, min_impurity_split=None,\n",
       "                      min_samples_leaf=3, min_samples_split=2,\n",
       "                      min_weight_fraction_leaf=0.0, n_estimators=150, n_jobs=-1,\n",
       "                      oob_score=False, random_state=13, verbose=0,\n",
       "                      warm_start=False)"
      ]
     },
     "execution_count": 17,
     "metadata": {},
     "output_type": "execute_result"
    }
   ],
   "source": [
    "lay1_model.fit(X_train, y_train)"
   ]
  },
  {
   "cell_type": "code",
   "execution_count": 20,
   "metadata": {},
   "outputs": [
    {
     "name": "stdout",
     "output_type": "stream",
     "text": [
      "The mae for the Random Forest is: 8373953.335417818\n",
      "The r^2 score for the Random Forest is: 0.4308147559185903\n"
     ]
    }
   ],
   "source": [
    "y_pred = lay1_model.predict(X_test)\n",
    "mae = mean_absolute_error(y_test, y_pred)\n",
    "r2 = r2_score(y_test, y_pred)\n",
    "print(f'The mae for the Random Forest is: {mae}')\n",
    "print(f'The r^2 score for the Random Forest is: {r2}')"
   ]
  },
  {
   "cell_type": "code",
   "execution_count": 111,
   "metadata": {},
   "outputs": [],
   "source": [
    "import pickle\n",
    "filename = 'sunlight_total.pkl'\n",
    "pickle.dump(lay1_model, open(filename, 'wb'))"
   ]
  },
  {
   "cell_type": "markdown",
   "metadata": {},
   "source": [
    "# Next Step: predict sunlight for each direction"
   ]
  },
  {
   "cell_type": "code",
   "execution_count": 78,
   "metadata": {
    "scrolled": true
   },
   "outputs": [
    {
     "data": {
      "text/html": [
       "<div>\n",
       "<style scoped>\n",
       "    .dataframe tbody tr th:only-of-type {\n",
       "        vertical-align: middle;\n",
       "    }\n",
       "\n",
       "    .dataframe tbody tr th {\n",
       "        vertical-align: top;\n",
       "    }\n",
       "\n",
       "    .dataframe thead th {\n",
       "        text-align: right;\n",
       "    }\n",
       "</style>\n",
       "<table border=\"1\" class=\"dataframe\">\n",
       "  <thead>\n",
       "    <tr style=\"text-align: right;\">\n",
       "      <th></th>\n",
       "      <th>lat_avg</th>\n",
       "      <th>lng_avg</th>\n",
       "      <th>average_panels</th>\n",
       "      <th>yearly_sunlight_kwh_total</th>\n",
       "      <th>yearly_sunlight_kwh_n</th>\n",
       "      <th>yearly_sunlight_kwh_e</th>\n",
       "      <th>yearly_sunlight_kwh_s</th>\n",
       "      <th>yearly_sunlight_kwh_w</th>\n",
       "      <th>yearly_sunlight_kwh_f</th>\n",
       "    </tr>\n",
       "  </thead>\n",
       "  <tbody>\n",
       "    <tr>\n",
       "      <td>0</td>\n",
       "      <td>34.267040</td>\n",
       "      <td>-118.432716</td>\n",
       "      <td>35</td>\n",
       "      <td>7.922383e+06</td>\n",
       "      <td>1.075291e+06</td>\n",
       "      <td>1.014756e+06</td>\n",
       "      <td>1.760043e+06</td>\n",
       "      <td>1.533140e+06</td>\n",
       "      <td>2.539152e+06</td>\n",
       "    </tr>\n",
       "    <tr>\n",
       "      <td>1</td>\n",
       "      <td>43.156368</td>\n",
       "      <td>-77.607040</td>\n",
       "      <td>307</td>\n",
       "      <td>3.117606e+07</td>\n",
       "      <td>1.739810e+05</td>\n",
       "      <td>7.338827e+05</td>\n",
       "      <td>1.342966e+06</td>\n",
       "      <td>7.666855e+05</td>\n",
       "      <td>2.815855e+07</td>\n",
       "    </tr>\n",
       "    <tr>\n",
       "      <td>2</td>\n",
       "      <td>42.277794</td>\n",
       "      <td>-89.066589</td>\n",
       "      <td>37</td>\n",
       "      <td>8.337565e+06</td>\n",
       "      <td>1.342642e+05</td>\n",
       "      <td>1.024630e+06</td>\n",
       "      <td>3.155397e+06</td>\n",
       "      <td>1.173068e+06</td>\n",
       "      <td>2.850205e+06</td>\n",
       "    </tr>\n",
       "    <tr>\n",
       "      <td>3</td>\n",
       "      <td>40.422962</td>\n",
       "      <td>-79.993729</td>\n",
       "      <td>33</td>\n",
       "      <td>3.912445e+06</td>\n",
       "      <td>7.318190e+04</td>\n",
       "      <td>1.203715e+06</td>\n",
       "      <td>7.604248e+05</td>\n",
       "      <td>4.425539e+05</td>\n",
       "      <td>1.432569e+06</td>\n",
       "    </tr>\n",
       "    <tr>\n",
       "      <td>4</td>\n",
       "      <td>33.844044</td>\n",
       "      <td>-117.933113</td>\n",
       "      <td>73</td>\n",
       "      <td>2.241812e+07</td>\n",
       "      <td>1.691435e+06</td>\n",
       "      <td>2.070519e+06</td>\n",
       "      <td>3.551939e+06</td>\n",
       "      <td>3.269615e+06</td>\n",
       "      <td>1.183461e+07</td>\n",
       "    </tr>\n",
       "  </tbody>\n",
       "</table>\n",
       "</div>"
      ],
      "text/plain": [
       "     lat_avg     lng_avg  average_panels  yearly_sunlight_kwh_total  \\\n",
       "0  34.267040 -118.432716              35               7.922383e+06   \n",
       "1  43.156368  -77.607040             307               3.117606e+07   \n",
       "2  42.277794  -89.066589              37               8.337565e+06   \n",
       "3  40.422962  -79.993729              33               3.912445e+06   \n",
       "4  33.844044 -117.933113              73               2.241812e+07   \n",
       "\n",
       "   yearly_sunlight_kwh_n  yearly_sunlight_kwh_e  yearly_sunlight_kwh_s  \\\n",
       "0           1.075291e+06           1.014756e+06           1.760043e+06   \n",
       "1           1.739810e+05           7.338827e+05           1.342966e+06   \n",
       "2           1.342642e+05           1.024630e+06           3.155397e+06   \n",
       "3           7.318190e+04           1.203715e+06           7.604248e+05   \n",
       "4           1.691435e+06           2.070519e+06           3.551939e+06   \n",
       "\n",
       "   yearly_sunlight_kwh_w  yearly_sunlight_kwh_f  \n",
       "0           1.533140e+06           2.539152e+06  \n",
       "1           7.666855e+05           2.815855e+07  \n",
       "2           1.173068e+06           2.850205e+06  \n",
       "3           4.425539e+05           1.432569e+06  \n",
       "4           3.269615e+06           1.183461e+07  "
      ]
     },
     "execution_count": 78,
     "metadata": {},
     "output_type": "execute_result"
    }
   ],
   "source": [
    "features = ['lat_avg', 'lng_avg', 'average_panels',\n",
    "             'yearly_sunlight_kwh_total']\n",
    "yearly_sun = ['yearly_sunlight_kwh_n', 'yearly_sunlight_kwh_e', \n",
    "             'yearly_sunlight_kwh_s', 'yearly_sunlight_kwh_w',\n",
    "             'yearly_sunlight_kwh_f']\n",
    "lev2_features = features + yearly_sun\n",
    "lev2_df = df[lev2_features].copy()\n",
    "lev2_df.head()"
   ]
  },
  {
   "cell_type": "code",
   "execution_count": 79,
   "metadata": {},
   "outputs": [],
   "source": [
    "bottom = lev2_df.sort_values(by='yearly_sunlight_kwh_total')[:486].index\n",
    "top = lev2_df.sort_values(by='yearly_sunlight_kwh_total')[47689:].index\n",
    "\n",
    "lev2_df.drop(bottom,inplace=True)\n",
    "lev2_df.drop(top, inplace=True)\n",
    "train, test = train_test_split(lev2_df, random_state=13, train_size=.8, test_size=.2)"
   ]
  },
  {
   "cell_type": "markdown",
   "metadata": {},
   "source": [
    "## Train a model for each direction"
   ]
  },
  {
   "cell_type": "code",
   "execution_count": 113,
   "metadata": {
    "scrolled": true
   },
   "outputs": [],
   "source": [
    "target = 'yearly_sunlight_kwh_n'\n",
    "\n",
    "X_train = train[features]\n",
    "y_train = train[target]\n",
    "\n",
    "X_test = test[features]\n",
    "y_test = test[target]"
   ]
  },
  {
   "cell_type": "code",
   "execution_count": 120,
   "metadata": {},
   "outputs": [],
   "source": [
    "model = RandomForestRegressor(n_estimators=150, min_samples_leaf=3, random_state=13, n_jobs=-1)"
   ]
  },
  {
   "cell_type": "code",
   "execution_count": 121,
   "metadata": {},
   "outputs": [
    {
     "name": "stdout",
     "output_type": "stream",
     "text": [
      "The mae for the model is: 392621.01448529697\n",
      "The r^2 score for the model is: 0.7721586669303104\n"
     ]
    }
   ],
   "source": [
    "model.fit(X_train, y_train)\n",
    "y_pred = model.predict(X_test)\n",
    "mae = mean_absolute_error(y_test, y_pred)\n",
    "r2 = r2_score(y_test, y_pred)\n",
    "print(f'The mae for the model is: {mae}')\n",
    "print(f'The r^2 score for the model is: {r2}')"
   ]
  },
  {
   "cell_type": "code",
   "execution_count": 122,
   "metadata": {},
   "outputs": [],
   "source": [
    "filename = 'sunlight_n.pkl'\n",
    "pickle.dump(model, open(filename, 'wb'))"
   ]
  },
  {
   "cell_type": "markdown",
   "metadata": {},
   "source": [
    "### Same thing, but for other directions"
   ]
  },
  {
   "cell_type": "code",
   "execution_count": 92,
   "metadata": {},
   "outputs": [
    {
     "name": "stdout",
     "output_type": "stream",
     "text": [
      "The mae for the model is: 684667.4755900083\n",
      "The r^2 score for the model is: 0.8316660466480176\n"
     ]
    }
   ],
   "source": [
    "target = 'yearly_sunlight_kwh_e'\n",
    "\n",
    "X_train = train[features]\n",
    "y_train = train[target]\n",
    "\n",
    "X_test = test[features]\n",
    "y_test = test[target]\n",
    "\n",
    "model = RandomForestRegressor(n_estimators=150, min_samples_leaf=2, random_state=13, n_jobs=-1)\n",
    "model.fit(X_train, y_train)\n",
    "y_pred = model.predict(X_test)\n",
    "mae = mean_absolute_error(y_test, y_pred)\n",
    "r2 = r2_score(y_test, y_pred)\n",
    "print(f'The mae for the model is: {mae}')\n",
    "print(f'The r^2 score for the model is: {r2}')"
   ]
  },
  {
   "cell_type": "code",
   "execution_count": 93,
   "metadata": {},
   "outputs": [],
   "source": [
    "filename = 'sunlight_e.pkl'\n",
    "pickle.dump(model, open(filename, 'wb'))"
   ]
  },
  {
   "cell_type": "code",
   "execution_count": 98,
   "metadata": {},
   "outputs": [
    {
     "name": "stdout",
     "output_type": "stream",
     "text": [
      "The mae for the model is: 918636.7178070124\n",
      "The r^2 score for the model is: 0.8828412026953386\n"
     ]
    }
   ],
   "source": [
    "target = 'yearly_sunlight_kwh_s'\n",
    "\n",
    "X_train = train[features]\n",
    "y_train = train[target]\n",
    "\n",
    "X_test = test[features]\n",
    "y_test = test[target]\n",
    "\n",
    "model = RandomForestRegressor(n_estimators=150, min_samples_leaf=3, random_state=13, n_jobs=-1)\n",
    "\n",
    "model.fit(X_train, y_train)\n",
    "y_pred = model.predict(X_test)\n",
    "mae = mean_absolute_error(y_test, y_pred)\n",
    "r2 = r2_score(y_test, y_pred)\n",
    "print(f'The mae for the model is: {mae}')\n",
    "print(f'The r^2 score for the model is: {r2}')"
   ]
  },
  {
   "cell_type": "code",
   "execution_count": 99,
   "metadata": {},
   "outputs": [],
   "source": [
    "filename = 'sunlight_s.pkl'\n",
    "pickle.dump(model, open(filename, 'wb'))"
   ]
  },
  {
   "cell_type": "code",
   "execution_count": 102,
   "metadata": {},
   "outputs": [
    {
     "name": "stdout",
     "output_type": "stream",
     "text": [
      "The mae for the model is: 761627.6851265306\n",
      "The r^2 score for the model is: 0.865852836487524\n"
     ]
    }
   ],
   "source": [
    "target = 'yearly_sunlight_kwh_w'\n",
    "\n",
    "X_train = train[features]\n",
    "y_train = train[target]\n",
    "\n",
    "X_test = test[features]\n",
    "y_test = test[target]\n",
    "\n",
    "model = RandomForestRegressor(n_estimators=150, min_samples_leaf=3, random_state=13, n_jobs=-1)\n",
    "\n",
    "model.fit(X_train, y_train)\n",
    "y_pred = model.predict(X_test)\n",
    "mae = mean_absolute_error(y_test, y_pred)\n",
    "r2 = r2_score(y_test, y_pred)\n",
    "print(f'The mae for the model is: {mae}')\n",
    "print(f'The r^2 score for the model is: {r2}')"
   ]
  },
  {
   "cell_type": "code",
   "execution_count": 103,
   "metadata": {},
   "outputs": [],
   "source": [
    "filename = 'sunlight_w.pkl'\n",
    "pickle.dump(model, open(filename, 'wb'))"
   ]
  },
  {
   "cell_type": "code",
   "execution_count": 108,
   "metadata": {},
   "outputs": [
    {
     "name": "stdout",
     "output_type": "stream",
     "text": [
      "The mae for the model is: 2061647.9102834074\n",
      "The r^2 score for the model is: 0.8926100738815207\n"
     ]
    }
   ],
   "source": [
    "target = 'yearly_sunlight_kwh_f'\n",
    "\n",
    "X_train = train[features]\n",
    "y_train = train[target]\n",
    "\n",
    "X_test = test[features]\n",
    "y_test = test[target]\n",
    "\n",
    "model = RandomForestRegressor(n_estimators=200, min_samples_leaf=2, random_state=13, n_jobs=-1)\n",
    "\n",
    "model.fit(X_train, y_train)\n",
    "y_pred = model.predict(X_test)\n",
    "mae = mean_absolute_error(y_test, y_pred)\n",
    "r2 = r2_score(y_test, y_pred)\n",
    "print(f'The mae for the model is: {mae}')\n",
    "print(f'The r^2 score for the model is: {r2}')"
   ]
  },
  {
   "cell_type": "code",
   "execution_count": 109,
   "metadata": {},
   "outputs": [],
   "source": [
    "filename = 'sunlight_f.pkl'\n",
    "pickle.dump(model, open(filename, 'wb'))"
   ]
  },
  {
   "cell_type": "markdown",
   "metadata": {},
   "source": [
    "## Last Layer, Predict number of panels"
   ]
  },
  {
   "cell_type": "code",
   "execution_count": 112,
   "metadata": {},
   "outputs": [],
   "source": [
    "drop_cols = ['number_of_panels_total', 'unit_offset']\n",
    "df2 = df.drop(drop_cols, axis=1)\n",
    "\n",
    "#remove outliers\n",
    "df2.drop(bottom,inplace=True)\n",
    "df2.drop(top, inplace=True)"
   ]
  },
  {
   "cell_type": "code",
   "execution_count": 123,
   "metadata": {},
   "outputs": [],
   "source": [
    "train, test = train_test_split(df2, random_state=13, train_size=.8, test_size=.2)"
   ]
  },
  {
   "cell_type": "code",
   "execution_count": 126,
   "metadata": {},
   "outputs": [
    {
     "name": "stdout",
     "output_type": "stream",
     "text": [
      "The mae for the model is: 72.35880838894185\n",
      "The r^2 score for the model is: 0.9983054445040012\n"
     ]
    }
   ],
   "source": [
    "target = 'number_of_panels_n'\n",
    "\n",
    "X_train = train[lev2_features]\n",
    "y_train = train[target]\n",
    "\n",
    "X_test = test[lev2_features]\n",
    "y_test = test[target]\n",
    "\n",
    "model = RandomForestRegressor(n_estimators=100, random_state=13, n_jobs=-1)\n",
    "\n",
    "model.fit(X_train, y_train)\n",
    "y_pred = model.predict(X_test)\n",
    "mae = mean_absolute_error(y_test, y_pred)\n",
    "r2 = r2_score(y_test, y_pred)\n",
    "print(f'The mae for the model is: {mae}')\n",
    "print(f'The r^2 score for the model is: {r2}')"
   ]
  },
  {
   "cell_type": "code",
   "execution_count": 127,
   "metadata": {},
   "outputs": [],
   "source": [
    "filename = 'panels_n.pkl'\n",
    "pickle.dump(model, open(filename, 'wb'))"
   ]
  },
  {
   "cell_type": "code",
   "execution_count": 131,
   "metadata": {},
   "outputs": [
    {
     "name": "stdout",
     "output_type": "stream",
     "text": [
      "The mae for the model is: 165.20473678635736\n",
      "The r^2 score for the model is: 0.9979940203067978\n"
     ]
    }
   ],
   "source": [
    "target = 'number_of_panels_e'\n",
    "\n",
    "X_train = train[lev2_features]\n",
    "y_train = train[target]\n",
    "\n",
    "X_test = test[lev2_features]\n",
    "y_test = test[target]\n",
    "\n",
    "model = RandomForestRegressor(n_estimators=150, random_state=13, n_jobs=-1)\n",
    "\n",
    "model.fit(X_train, y_train)\n",
    "y_pred = model.predict(X_test)\n",
    "mae = mean_absolute_error(y_test, y_pred)\n",
    "r2 = r2_score(y_test, y_pred)\n",
    "print(f'The mae for the model is: {mae}')\n",
    "print(f'The r^2 score for the model is: {r2}')"
   ]
  },
  {
   "cell_type": "code",
   "execution_count": 132,
   "metadata": {},
   "outputs": [],
   "source": [
    "filename = 'panels_e.pkl'\n",
    "pickle.dump(model, open(filename, 'wb'))"
   ]
  },
  {
   "cell_type": "code",
   "execution_count": 133,
   "metadata": {},
   "outputs": [
    {
     "name": "stdout",
     "output_type": "stream",
     "text": [
      "The mae for the model is: 210.74242841506899\n",
      "The r^2 score for the model is: 0.997904335599916\n"
     ]
    }
   ],
   "source": [
    "target = 'number_of_panels_w'\n",
    "\n",
    "X_train = train[lev2_features]\n",
    "y_train = train[target]\n",
    "\n",
    "X_test = test[lev2_features]\n",
    "y_test = test[target]\n",
    "\n",
    "model = RandomForestRegressor(n_estimators=150, random_state=13, n_jobs=-1)\n",
    "\n",
    "model.fit(X_train, y_train)\n",
    "y_pred = model.predict(X_test)\n",
    "mae = mean_absolute_error(y_test, y_pred)\n",
    "r2 = r2_score(y_test, y_pred)\n",
    "print(f'The mae for the model is: {mae}')\n",
    "print(f'The r^2 score for the model is: {r2}')"
   ]
  },
  {
   "cell_type": "code",
   "execution_count": 134,
   "metadata": {},
   "outputs": [],
   "source": [
    "filename = 'panels_w.pkl'\n",
    "pickle.dump(model, open(filename, 'wb'))"
   ]
  },
  {
   "cell_type": "code",
   "execution_count": 135,
   "metadata": {},
   "outputs": [
    {
     "name": "stdout",
     "output_type": "stream",
     "text": [
      "The mae for the model is: 285.56456378208526\n",
      "The r^2 score for the model is: 0.9976952586292188\n"
     ]
    }
   ],
   "source": [
    "target = 'number_of_panels_s'\n",
    "\n",
    "X_train = train[lev2_features]\n",
    "y_train = train[target]\n",
    "\n",
    "X_test = test[lev2_features]\n",
    "y_test = test[target]\n",
    "\n",
    "model = RandomForestRegressor(n_estimators=150, random_state=13, n_jobs=-1)\n",
    "\n",
    "model.fit(X_train, y_train)\n",
    "y_pred = model.predict(X_test)\n",
    "mae = mean_absolute_error(y_test, y_pred)\n",
    "r2 = r2_score(y_test, y_pred)\n",
    "print(f'The mae for the model is: {mae}')\n",
    "print(f'The r^2 score for the model is: {r2}')"
   ]
  },
  {
   "cell_type": "code",
   "execution_count": 136,
   "metadata": {},
   "outputs": [],
   "source": [
    "filename = 'panels_s.pkl'\n",
    "pickle.dump(model, open(filename, 'wb'))"
   ]
  },
  {
   "cell_type": "code",
   "execution_count": 137,
   "metadata": {},
   "outputs": [
    {
     "name": "stdout",
     "output_type": "stream",
     "text": [
      "The mae for the model is: 433.7787070578682\n",
      "The r^2 score for the model is: 0.9988580388588094\n"
     ]
    }
   ],
   "source": [
    "target = 'number_of_panels_f'\n",
    "\n",
    "X_train = train[lev2_features]\n",
    "y_train = train[target]\n",
    "\n",
    "X_test = test[lev2_features]\n",
    "y_test = test[target]\n",
    "\n",
    "model = RandomForestRegressor(n_estimators=150, random_state=13, n_jobs=-1)\n",
    "\n",
    "model.fit(X_train, y_train)\n",
    "y_pred = model.predict(X_test)\n",
    "mae = mean_absolute_error(y_test, y_pred)\n",
    "r2 = r2_score(y_test, y_pred)\n",
    "print(f'The mae for the model is: {mae}')\n",
    "print(f'The r^2 score for the model is: {r2}')"
   ]
  },
  {
   "cell_type": "code",
   "execution_count": 138,
   "metadata": {},
   "outputs": [],
   "source": [
    "filename = 'panels_s.pkl'\n",
    "pickle.dump(model, open(filename, 'wb'))"
   ]
  },
  {
   "cell_type": "code",
   "execution_count": 32,
   "metadata": {},
   "outputs": [
    {
     "ename": "TypeError",
     "evalue": "unsupported operand type(s) for /: 'str' and 'str'",
     "output_type": "error",
     "traceback": [
      "\u001b[1;31m---------------------------------------------------------------------------\u001b[0m",
      "\u001b[1;31mTypeError\u001b[0m                                 Traceback (most recent call last)",
      "\u001b[1;32m<ipython-input-32-4816a54d37d2>\u001b[0m in \u001b[0;36m<module>\u001b[1;34m\u001b[0m\n\u001b[0;32m     11\u001b[0m     \u001b[0msun\u001b[0m \u001b[1;33m=\u001b[0m \u001b[0myearly_sun\u001b[0m\u001b[1;33m[\u001b[0m\u001b[0mind\u001b[0m\u001b[1;33m]\u001b[0m\u001b[1;33m\u001b[0m\u001b[1;33m\u001b[0m\u001b[0m\n\u001b[0;32m     12\u001b[0m     \u001b[0mname\u001b[0m \u001b[1;33m=\u001b[0m \u001b[1;34m'yearly_unit_prod_'\u001b[0m \u001b[1;33m+\u001b[0m \u001b[0mroof_dir\u001b[0m\u001b[1;33m[\u001b[0m\u001b[0mind\u001b[0m\u001b[1;33m]\u001b[0m\u001b[1;33m\u001b[0m\u001b[1;33m\u001b[0m\u001b[0m\n\u001b[1;32m---> 13\u001b[1;33m     \u001b[0mdf\u001b[0m\u001b[1;33m[\u001b[0m\u001b[0mname\u001b[0m\u001b[1;33m]\u001b[0m \u001b[1;33m=\u001b[0m \u001b[0msun\u001b[0m\u001b[1;33m/\u001b[0m\u001b[0mcol\u001b[0m\u001b[1;33m\u001b[0m\u001b[1;33m\u001b[0m\u001b[0m\n\u001b[0m\u001b[0;32m     14\u001b[0m     \u001b[0mdf\u001b[0m\u001b[1;33m.\u001b[0m\u001b[0mdrop\u001b[0m\u001b[1;33m(\u001b[0m\u001b[1;33m[\u001b[0m\u001b[0msun\u001b[0m\u001b[1;33m,\u001b[0m\u001b[0mcol\u001b[0m\u001b[1;33m]\u001b[0m\u001b[1;33m,\u001b[0m \u001b[0maxis\u001b[0m\u001b[1;33m=\u001b[0m\u001b[1;36m1\u001b[0m\u001b[1;33m,\u001b[0m \u001b[0minplace\u001b[0m\u001b[1;33m=\u001b[0m\u001b[1;32mTrue\u001b[0m\u001b[1;33m)\u001b[0m\u001b[1;33m\u001b[0m\u001b[1;33m\u001b[0m\u001b[0m\n\u001b[0;32m     15\u001b[0m \u001b[1;33m\u001b[0m\u001b[0m\n",
      "\u001b[1;31mTypeError\u001b[0m: unsupported operand type(s) for /: 'str' and 'str'"
     ]
    }
   ],
   "source": [
    "#feature engineering\n",
    "panels_cols = ['number_of_panels_n', 'number_of_panels_e',\n",
    "               'number_of_panels_s', 'number_of_panels_w',\n",
    "               'number_of_panels_f']\n",
    "yearly_sun = ['yearly_sunlight_kwh_n', 'yearly_sunlight_kwh_e', \n",
    "             'yearly_sunlight_kwh_s', 'yearly_sunlight_kwh_w',\n",
    "             'yearly_sunlight_kwh_f']\n",
    "roof_dir = ['n', 'e', 's', 'w', 'f']\n",
    "for col in panels_cols:\n",
    "    ind = panels_cols.index(col)\n",
    "    sun = yearly_sun[ind]\n",
    "    name = 'yearly_unit_prod_' + roof_dir[ind]\n",
    "    df[name] = sun/col\n",
    "    df.drop([sun,col], axis=1, inplace=True)\n",
    "    \n",
    "df.head()"
   ]
  },
  {
   "cell_type": "code",
   "execution_count": 16,
   "metadata": {},
   "outputs": [],
   "source": []
  },
  {
   "cell_type": "code",
   "execution_count": null,
   "metadata": {},
   "outputs": [],
   "source": []
  }
 ],
 "metadata": {
  "kernelspec": {
   "display_name": "Python 3",
   "language": "python",
   "name": "python3"
  },
  "language_info": {
   "codemirror_mode": {
    "name": "ipython",
    "version": 3
   },
   "file_extension": ".py",
   "mimetype": "text/x-python",
   "name": "python",
   "nbconvert_exporter": "python",
   "pygments_lexer": "ipython3",
   "version": "3.7.4"
  }
 },
 "nbformat": 4,
 "nbformat_minor": 2
}
